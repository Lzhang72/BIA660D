{
 "cells": [
  {
   "cell_type": "code",
   "execution_count": 1,
   "metadata": {
    "collapsed": true
   },
   "outputs": [],
   "source": [
    "# This is the file for assignment 3\n",
    "import pandas as pd\n",
    "import numpy as np\n",
    "import os\n",
    "import random\n",
    "import matplotlib\n",
    "import matplotlib.pyplot as plt"
   ]
  },
  {
   "cell_type": "code",
   "execution_count": 2,
   "metadata": {
    "collapsed": true
   },
   "outputs": [],
   "source": [
    "reviewing = pd.read_json('reviews.json')"
   ]
  },
  {
   "cell_type": "code",
   "execution_count": 4,
   "metadata": {},
   "outputs": [
    {
     "name": "stdout",
     "output_type": "stream",
     "text": [
      "<class 'pandas.core.frame.DataFrame'>\n",
      "Int64Index: 842 entries, 0 to 99\n",
      "Data columns (total 5 columns):\n",
      "author         842 non-null object\n",
      "date           842 non-null datetime64[ns]\n",
      "rating         842 non-null int64\n",
      "review_text    842 non-null object\n",
      "title          842 non-null object\n",
      "dtypes: datetime64[ns](1), int64(1), object(3)\n",
      "memory usage: 39.5+ KB\n"
     ]
    }
   ],
   "source": [
    "# by the time I scrapped(4/13/2018), there were 842 match reviews\n",
    "reviewing.info()"
   ]
  },
  {
   "cell_type": "code",
   "execution_count": 5,
   "metadata": {},
   "outputs": [
    {
     "data": {
      "text/html": [
       "<div>\n",
       "<style>\n",
       "    .dataframe thead tr:only-child th {\n",
       "        text-align: right;\n",
       "    }\n",
       "\n",
       "    .dataframe thead th {\n",
       "        text-align: left;\n",
       "    }\n",
       "\n",
       "    .dataframe tbody tr th {\n",
       "        vertical-align: top;\n",
       "    }\n",
       "</style>\n",
       "<table border=\"1\" class=\"dataframe\">\n",
       "  <thead>\n",
       "    <tr style=\"text-align: right;\">\n",
       "      <th></th>\n",
       "      <th>author</th>\n",
       "      <th>date</th>\n",
       "      <th>rating</th>\n",
       "      <th>review_text</th>\n",
       "      <th>title</th>\n",
       "    </tr>\n",
       "  </thead>\n",
       "  <tbody>\n",
       "    <tr>\n",
       "      <th>0</th>\n",
       "      <td>FATMAN</td>\n",
       "      <td>2018-04-13</td>\n",
       "      <td>1</td>\n",
       "      <td>Junk junk junk sums it up</td>\n",
       "      <td>Do not waste your money</td>\n",
       "    </tr>\n",
       "    <tr>\n",
       "      <th>1</th>\n",
       "      <td>CS McCulloh</td>\n",
       "      <td>2018-04-13</td>\n",
       "      <td>5</td>\n",
       "      <td>Really good for the price.</td>\n",
       "      <td>Five Stars</td>\n",
       "    </tr>\n",
       "    <tr>\n",
       "      <th>10</th>\n",
       "      <td>Cwazy Wabbit</td>\n",
       "      <td>2018-04-11</td>\n",
       "      <td>5</td>\n",
       "      <td>Very nice, works great</td>\n",
       "      <td>Five Stars</td>\n",
       "    </tr>\n",
       "    <tr>\n",
       "      <th>100</th>\n",
       "      <td>William Vuzzo</td>\n",
       "      <td>2018-03-18</td>\n",
       "      <td>5</td>\n",
       "      <td>These are great for work. Get the upgraded bat...</td>\n",
       "      <td>Five Stars</td>\n",
       "    </tr>\n",
       "    <tr>\n",
       "      <th>101</th>\n",
       "      <td>Harris</td>\n",
       "      <td>2018-03-17</td>\n",
       "      <td>5</td>\n",
       "      <td>These flashlights are so valuable and they are...</td>\n",
       "      <td>These flashlights are so valuable and they are...</td>\n",
       "    </tr>\n",
       "  </tbody>\n",
       "</table>\n",
       "</div>"
      ],
      "text/plain": [
       "            author       date  rating  \\\n",
       "0           FATMAN 2018-04-13       1   \n",
       "1      CS McCulloh 2018-04-13       5   \n",
       "10    Cwazy Wabbit 2018-04-11       5   \n",
       "100  William Vuzzo 2018-03-18       5   \n",
       "101         Harris 2018-03-17       5   \n",
       "\n",
       "                                           review_text  \\\n",
       "0                            Junk junk junk sums it up   \n",
       "1                           Really good for the price.   \n",
       "10                              Very nice, works great   \n",
       "100  These are great for work. Get the upgraded bat...   \n",
       "101  These flashlights are so valuable and they are...   \n",
       "\n",
       "                                                 title  \n",
       "0                              Do not waste your money  \n",
       "1                                           Five Stars  \n",
       "10                                          Five Stars  \n",
       "100                                         Five Stars  \n",
       "101  These flashlights are so valuable and they are...  "
      ]
     },
     "execution_count": 5,
     "metadata": {},
     "output_type": "execute_result"
    }
   ],
   "source": [
    "reviewing.head()"
   ]
  },
  {
   "cell_type": "code",
   "execution_count": 6,
   "metadata": {},
   "outputs": [
    {
     "data": {
      "text/plain": [
       "5    18\n",
       "1     3\n",
       "3     1\n",
       "Name: rating, dtype: int64"
      ]
     },
     "execution_count": 6,
     "metadata": {},
     "output_type": "execute_result"
    }
   ],
   "source": [
    "# 2 character name may be the spammer, lets find out what rating they made\n",
    "reviewing['namelen'] = reviewing.author.apply(lambda r: len(r))\n",
    "reviewing.rating.loc[reviewing.namelen == 2 ].value_counts()"
   ]
  },
  {
   "cell_type": "code",
   "execution_count": 7,
   "metadata": {
    "collapsed": true
   },
   "outputs": [],
   "source": [
    "# WOW!, basically 5 stars, let's remove them\n",
    "review = reviewing[reviewing.namelen != 2]\n",
    "# now, let's extract some feature and do some EDA, the feature are 1: the lenth of title 2: the lenth of text 3: positive_rate 4: negactive rate"
   ]
  },
  {
   "cell_type": "code",
   "execution_count": 8,
   "metadata": {},
   "outputs": [
    {
     "name": "stderr",
     "output_type": "stream",
     "text": [
      "C:\\ProgramData\\Anaconda3\\lib\\site-packages\\ipykernel_launcher.py:1: SettingWithCopyWarning: \n",
      "A value is trying to be set on a copy of a slice from a DataFrame.\n",
      "Try using .loc[row_indexer,col_indexer] = value instead\n",
      "\n",
      "See the caveats in the documentation: http://pandas.pydata.org/pandas-docs/stable/indexing.html#indexing-view-versus-copy\n",
      "  \"\"\"Entry point for launching an IPython kernel.\n",
      "C:\\ProgramData\\Anaconda3\\lib\\site-packages\\ipykernel_launcher.py:2: SettingWithCopyWarning: \n",
      "A value is trying to be set on a copy of a slice from a DataFrame.\n",
      "Try using .loc[row_indexer,col_indexer] = value instead\n",
      "\n",
      "See the caveats in the documentation: http://pandas.pydata.org/pandas-docs/stable/indexing.html#indexing-view-versus-copy\n",
      "  \n"
     ]
    },
    {
     "data": {
      "text/plain": [
       "2     355\n",
       "3      96\n",
       "4      71\n",
       "5      53\n",
       "6      44\n",
       "1      39\n",
       "11     29\n",
       "10     28\n",
       "7      27\n",
       "8      22\n",
       "9      20\n",
       "13     14\n",
       "12      9\n",
       "14      5\n",
       "18      3\n",
       "15      2\n",
       "20      1\n",
       "19      1\n",
       "27      1\n",
       "Name: titlen, dtype: int64"
      ]
     },
     "execution_count": 8,
     "metadata": {},
     "output_type": "execute_result"
    }
   ],
   "source": [
    "review['titlen'] = review.title.apply(lambda r: len(r.split()))\n",
    "review['revlen'] = review.review_text.apply(lambda r: len(r.split()))\n",
    "review.titlen.value_counts()"
   ]
  },
  {
   "cell_type": "code",
   "execution_count": 9,
   "metadata": {},
   "outputs": [
    {
     "name": "stderr",
     "output_type": "stream",
     "text": [
      "C:\\ProgramData\\Anaconda3\\lib\\site-packages\\pandas\\core\\indexing.py:517: SettingWithCopyWarning: \n",
      "A value is trying to be set on a copy of a slice from a DataFrame.\n",
      "Try using .loc[row_indexer,col_indexer] = value instead\n",
      "\n",
      "See the caveats in the documentation: http://pandas.pydata.org/pandas-docs/stable/indexing.html#indexing-view-versus-copy\n",
      "  self.obj[item] = s\n"
     ]
    },
    {
     "data": {
      "text/plain": [
       "2     355\n",
       "3      96\n",
       "4      71\n",
       "5      53\n",
       "6      44\n",
       "1      39\n",
       "12     36\n",
       "11     29\n",
       "10     28\n",
       "7      27\n",
       "8      22\n",
       "9      20\n",
       "Name: titlen, dtype: int64"
      ]
     },
     "execution_count": 9,
     "metadata": {},
     "output_type": "execute_result"
    }
   ],
   "source": [
    "#the title length whose length above 12 is rare, let's set them to 12\n",
    "review.loc[review['titlen'] > 11,'titlen'] = 12\n",
    "review.titlen.value_counts()"
   ]
  },
  {
   "cell_type": "code",
   "execution_count": 10,
   "metadata": {},
   "outputs": [
    {
     "data": {
      "text/html": [
       "<div>\n",
       "<style>\n",
       "    .dataframe thead tr:only-child th {\n",
       "        text-align: right;\n",
       "    }\n",
       "\n",
       "    .dataframe thead th {\n",
       "        text-align: left;\n",
       "    }\n",
       "\n",
       "    .dataframe tbody tr th {\n",
       "        vertical-align: top;\n",
       "    }\n",
       "</style>\n",
       "<table border=\"1\" class=\"dataframe\">\n",
       "  <thead>\n",
       "    <tr style=\"text-align: right;\">\n",
       "      <th></th>\n",
       "      <th>author</th>\n",
       "      <th>date</th>\n",
       "      <th>rating</th>\n",
       "      <th>review_text</th>\n",
       "      <th>title</th>\n",
       "      <th>namelen</th>\n",
       "      <th>titlen</th>\n",
       "      <th>revlen</th>\n",
       "      <th>pos</th>\n",
       "      <th>neg</th>\n",
       "    </tr>\n",
       "  </thead>\n",
       "  <tbody>\n",
       "    <tr>\n",
       "      <th>0</th>\n",
       "      <td>FATMAN</td>\n",
       "      <td>2018-04-13</td>\n",
       "      <td>1</td>\n",
       "      <td>Junk junk junk sums it up</td>\n",
       "      <td>Do not waste your money</td>\n",
       "      <td>6</td>\n",
       "      <td>5</td>\n",
       "      <td>6</td>\n",
       "      <td>0.000000</td>\n",
       "      <td>0.600000</td>\n",
       "    </tr>\n",
       "    <tr>\n",
       "      <th>1</th>\n",
       "      <td>CS McCulloh</td>\n",
       "      <td>2018-04-13</td>\n",
       "      <td>5</td>\n",
       "      <td>Really good for the price.</td>\n",
       "      <td>Five Stars</td>\n",
       "      <td>11</td>\n",
       "      <td>2</td>\n",
       "      <td>5</td>\n",
       "      <td>0.200000</td>\n",
       "      <td>0.000000</td>\n",
       "    </tr>\n",
       "    <tr>\n",
       "      <th>2</th>\n",
       "      <td>Cwazy Wabbit</td>\n",
       "      <td>2018-04-11</td>\n",
       "      <td>5</td>\n",
       "      <td>Very nice, works great</td>\n",
       "      <td>Five Stars</td>\n",
       "      <td>12</td>\n",
       "      <td>2</td>\n",
       "      <td>4</td>\n",
       "      <td>0.750000</td>\n",
       "      <td>0.000000</td>\n",
       "    </tr>\n",
       "    <tr>\n",
       "      <th>3</th>\n",
       "      <td>William Vuzzo</td>\n",
       "      <td>2018-03-18</td>\n",
       "      <td>5</td>\n",
       "      <td>These are great for work. Get the upgraded bat...</td>\n",
       "      <td>Five Stars</td>\n",
       "      <td>13</td>\n",
       "      <td>2</td>\n",
       "      <td>9</td>\n",
       "      <td>0.222222</td>\n",
       "      <td>0.000000</td>\n",
       "    </tr>\n",
       "    <tr>\n",
       "      <th>4</th>\n",
       "      <td>Harris</td>\n",
       "      <td>2018-03-17</td>\n",
       "      <td>5</td>\n",
       "      <td>These flashlights are so valuable and they are...</td>\n",
       "      <td>These flashlights are so valuable and they are...</td>\n",
       "      <td>6</td>\n",
       "      <td>12</td>\n",
       "      <td>31</td>\n",
       "      <td>0.137931</td>\n",
       "      <td>0.034483</td>\n",
       "    </tr>\n",
       "  </tbody>\n",
       "</table>\n",
       "</div>"
      ],
      "text/plain": [
       "          author       date  rating  \\\n",
       "0         FATMAN 2018-04-13       1   \n",
       "1    CS McCulloh 2018-04-13       5   \n",
       "2   Cwazy Wabbit 2018-04-11       5   \n",
       "3  William Vuzzo 2018-03-18       5   \n",
       "4         Harris 2018-03-17       5   \n",
       "\n",
       "                                         review_text  \\\n",
       "0                          Junk junk junk sums it up   \n",
       "1                         Really good for the price.   \n",
       "2                             Very nice, works great   \n",
       "3  These are great for work. Get the upgraded bat...   \n",
       "4  These flashlights are so valuable and they are...   \n",
       "\n",
       "                                               title  namelen  titlen  revlen  \\\n",
       "0                            Do not waste your money        6       5       6   \n",
       "1                                         Five Stars       11       2       5   \n",
       "2                                         Five Stars       12       2       4   \n",
       "3                                         Five Stars       13       2       9   \n",
       "4  These flashlights are so valuable and they are...        6      12      31   \n",
       "\n",
       "        pos       neg  \n",
       "0  0.000000  0.600000  \n",
       "1  0.200000  0.000000  \n",
       "2  0.750000  0.000000  \n",
       "3  0.222222  0.000000  \n",
       "4  0.137931  0.034483  "
      ]
     },
     "execution_count": 10,
     "metadata": {},
     "output_type": "execute_result"
    }
   ],
   "source": [
    "# now, sentiment analysis\n",
    "import spacy\n",
    "import string\n",
    "import csv\n",
    "nlp = spacy.load('en')\n",
    "f = open(\"positive-words.txt\",'r')\n",
    "positive_words=[line.strip() for line in f]\n",
    "fy = open(\"negative-words.txt\",'r')\n",
    "negative_words=[line.strip() for line in fy]\n",
    "def po_analysis(str1):\n",
    "    analysis_tokens=[]\n",
    "    tokens = []\n",
    "    count_p=0\n",
    "    count_n=0\n",
    "    w = nlp(str1)\n",
    "    for t in w:\n",
    "        tokens.append(t.lemma_)\n",
    "    analysis_tokens = [e for e in tokens if e not in [',','.','!','~','-PRON-']]\n",
    "    for word in analysis_tokens:\n",
    "        if word in positive_words:\n",
    "            count_p+=1\n",
    "    return float(count_p)/len(analysis_tokens)\n",
    "\n",
    "def neg_analysis(str1):\n",
    "    analysis_tokens=[]\n",
    "    tokens = []\n",
    "    count_p=0\n",
    "    count_n=0\n",
    "    w = nlp(str1)\n",
    "    for t in w:\n",
    "        tokens.append(t.lemma_)\n",
    "    analysis_tokens = [e for e in tokens if e not in [',','.','!','~','-PRON-']]\n",
    "    for word in analysis_tokens:\n",
    "        if word in negative_words:\n",
    "            count_n+=1\n",
    "    return float(count_n)/len(analysis_tokens)\n",
    "# reset the index\n",
    "review = review.reset_index(drop=True)\n",
    "for i in range(len(review)):\n",
    "    review.loc[i,'pos'] = po_analysis(review.loc[i,'review_text'])\n",
    "    review.loc[i,'neg'] = neg_analysis(review.loc[i,'review_text'])\n",
    "    \n",
    "# now the df is like this:\n",
    "review.head()"
   ]
  },
  {
   "cell_type": "code",
   "execution_count": 11,
   "metadata": {},
   "outputs": [
    {
     "data": {
      "text/plain": [
       "<matplotlib.axes._subplots.AxesSubplot at 0x2531d1e1588>"
      ]
     },
     "execution_count": 11,
     "metadata": {},
     "output_type": "execute_result"
    },
    {
     "data": {
      "image/png": "[encoded data removed]",
      "text/plain": [
       "<matplotlib.figure.Figure at 0x2531d1ea128>"
      ]
     },
     "metadata": {},
     "output_type": "display_data"
    }
   ],
   "source": [
    "#let's figure out which features are most related to rating \n",
    "%matplotlib inline\n",
    "review['titlen'].hist()"
   ]
  },
  {
   "cell_type": "code",
   "execution_count": 12,
   "metadata": {},
   "outputs": [
    {
     "data": {
      "text/plain": [
       "<matplotlib.axes._subplots.AxesSubplot at 0x2531d1dcfd0>"
      ]
     },
     "execution_count": 12,
     "metadata": {},
     "output_type": "execute_result"
    },
    {
     "data": {
      "image/png": "[encoded data removed]",
      "text/plain": [
       "<matplotlib.figure.Figure at 0x25321fc7438>"
      ]
     },
     "metadata": {},
     "output_type": "display_data"
    }
   ],
   "source": [
    "review['revlen'].hist()"
   ]
  },
  {
   "cell_type": "code",
   "execution_count": 14,
   "metadata": {},
   "outputs": [
    {
     "data": {
      "text/plain": [
       "<matplotlib.axes._subplots.AxesSubplot at 0x253231eb748>"
      ]
     },
     "execution_count": 14,
     "metadata": {},
     "output_type": "execute_result"
    },
    {
     "data": {
      "image/png": "[encoded data removed]",
      "text/plain": [
       "<matplotlib.figure.Figure at 0x253231fb048>"
      ]
     },
     "metadata": {},
     "output_type": "display_data"
    }
   ],
   "source": [
    "review.plot(kind = 'scatter', x = 'rating', y = 'pos',alpha=0.1)"
   ]
  },
  {
   "cell_type": "code",
   "execution_count": 15,
   "metadata": {},
   "outputs": [
    {
     "data": {
      "text/plain": [
       "<matplotlib.axes._subplots.AxesSubplot at 0x25323215128>"
      ]
     },
     "execution_count": 15,
     "metadata": {},
     "output_type": "execute_result"
    },
    {
     "data": {
      "image/png": "[encoded data removed]",
      "text/plain": [
       "<matplotlib.figure.Figure at 0x2532359e5f8>"
      ]
     },
     "metadata": {},
     "output_type": "display_data"
    }
   ],
   "source": [
    "review.plot(kind = 'scatter', x = 'rating', y = 'neg',alpha=0.1)"
   ]
  },
  {
   "cell_type": "code",
   "execution_count": 16,
   "metadata": {},
   "outputs": [
    {
     "data": {
      "text/plain": [
       "rating     1.000000\n",
       "pos        0.306215\n",
       "namelen    0.065581\n",
       "revlen    -0.073436\n",
       "titlen    -0.163680\n",
       "neg       -0.287784\n",
       "Name: rating, dtype: float64"
      ]
     },
     "execution_count": 16,
     "metadata": {},
     "output_type": "execute_result"
    }
   ],
   "source": [
    "# use corr() to see something\n",
    "corr_matrix = review.corr()\n",
    "corr_matrix[\"rating\"].sort_values(ascending=False)"
   ]
  },
  {
   "cell_type": "code",
   "execution_count": 18,
   "metadata": {},
   "outputs": [
    {
     "data": {
      "text/html": [
       "<div>\n",
       "<style>\n",
       "    .dataframe thead tr:only-child th {\n",
       "        text-align: right;\n",
       "    }\n",
       "\n",
       "    .dataframe thead th {\n",
       "        text-align: left;\n",
       "    }\n",
       "\n",
       "    .dataframe tbody tr th {\n",
       "        vertical-align: top;\n",
       "    }\n",
       "</style>\n",
       "<table border=\"1\" class=\"dataframe\">\n",
       "  <thead>\n",
       "    <tr style=\"text-align: right;\">\n",
       "      <th></th>\n",
       "      <th>author</th>\n",
       "      <th>date</th>\n",
       "      <th>rating</th>\n",
       "      <th>review_text</th>\n",
       "      <th>title</th>\n",
       "      <th>namelen</th>\n",
       "      <th>titlen</th>\n",
       "      <th>revlen</th>\n",
       "      <th>pos</th>\n",
       "      <th>neg</th>\n",
       "    </tr>\n",
       "  </thead>\n",
       "  <tbody>\n",
       "    <tr>\n",
       "      <th>757</th>\n",
       "      <td>DBK_Cali</td>\n",
       "      <td>2017-03-11</td>\n",
       "      <td>5</td>\n",
       "      <td>Super bright little flashlights. The focus on ...</td>\n",
       "      <td>Super bright little lights that work well.</td>\n",
       "      <td>8</td>\n",
       "      <td>7</td>\n",
       "      <td>143</td>\n",
       "      <td>0.120000</td>\n",
       "      <td>0.024000</td>\n",
       "    </tr>\n",
       "    <tr>\n",
       "      <th>51</th>\n",
       "      <td>Brett Wilson</td>\n",
       "      <td>2018-01-14</td>\n",
       "      <td>4</td>\n",
       "      <td>Super cheap. These are kind of our tiny emerge...</td>\n",
       "      <td>Small, cheap flashlights but thats what we pai...</td>\n",
       "      <td>12</td>\n",
       "      <td>10</td>\n",
       "      <td>40</td>\n",
       "      <td>0.105263</td>\n",
       "      <td>0.052632</td>\n",
       "    </tr>\n",
       "    <tr>\n",
       "      <th>517</th>\n",
       "      <td>Amazon Customer</td>\n",
       "      <td>2017-07-04</td>\n",
       "      <td>5</td>\n",
       "      <td>Best damn little 5 buck flashlight for EDC I l...</td>\n",
       "      <td>Best damn little 5 buck flashlight for EDC I l...</td>\n",
       "      <td>15</td>\n",
       "      <td>11</td>\n",
       "      <td>99</td>\n",
       "      <td>0.052632</td>\n",
       "      <td>0.021053</td>\n",
       "    </tr>\n",
       "    <tr>\n",
       "      <th>514</th>\n",
       "      <td>hellokitty</td>\n",
       "      <td>2017-07-05</td>\n",
       "      <td>5</td>\n",
       "      <td>these lights work great nice and bright good t...</td>\n",
       "      <td>good deal work great and seem very durable thx</td>\n",
       "      <td>10</td>\n",
       "      <td>9</td>\n",
       "      <td>15</td>\n",
       "      <td>0.333333</td>\n",
       "      <td>0.000000</td>\n",
       "    </tr>\n",
       "    <tr>\n",
       "      <th>774</th>\n",
       "      <td>Charles J. Cole</td>\n",
       "      <td>2017-03-04</td>\n",
       "      <td>5</td>\n",
       "      <td>This is probably the best and most compact set...</td>\n",
       "      <td>Very fast shipping!</td>\n",
       "      <td>15</td>\n",
       "      <td>3</td>\n",
       "      <td>40</td>\n",
       "      <td>0.128205</td>\n",
       "      <td>0.025641</td>\n",
       "    </tr>\n",
       "  </tbody>\n",
       "</table>\n",
       "</div>"
      ],
      "text/plain": [
       "              author       date  rating  \\\n",
       "757         DBK_Cali 2017-03-11       5   \n",
       "51      Brett Wilson 2018-01-14       4   \n",
       "517  Amazon Customer 2017-07-04       5   \n",
       "514       hellokitty 2017-07-05       5   \n",
       "774  Charles J. Cole 2017-03-04       5   \n",
       "\n",
       "                                           review_text  \\\n",
       "757  Super bright little flashlights. The focus on ...   \n",
       "51   Super cheap. These are kind of our tiny emerge...   \n",
       "517  Best damn little 5 buck flashlight for EDC I l...   \n",
       "514  these lights work great nice and bright good t...   \n",
       "774  This is probably the best and most compact set...   \n",
       "\n",
       "                                                 title  namelen  titlen  \\\n",
       "757         Super bright little lights that work well.        8       7   \n",
       "51   Small, cheap flashlights but thats what we pai...       12      10   \n",
       "517  Best damn little 5 buck flashlight for EDC I l...       15      11   \n",
       "514     good deal work great and seem very durable thx       10       9   \n",
       "774                                Very fast shipping!       15       3   \n",
       "\n",
       "     revlen       pos       neg  \n",
       "757     143  0.120000  0.024000  \n",
       "51       40  0.105263  0.052632  \n",
       "517      99  0.052632  0.021053  \n",
       "514      15  0.333333  0.000000  \n",
       "774      40  0.128205  0.025641  "
      ]
     },
     "execution_count": 18,
     "metadata": {},
     "output_type": "execute_result"
    }
   ],
   "source": [
    "# from above EDA, I choose use 'pos','neg','titlen', of course and text  as 4 feature that I am gonna use to build model\n",
    "# now,let's make train set and test set, I prefer 9:1 or 4:1, since I have so many data, 9:1 it is \n",
    "from sklearn.model_selection import train_test_split\n",
    "\n",
    "train_set, test_set = train_test_split(review, test_size=0.1, random_state=77)\n",
    "len(train_set)\n",
    "train_set.head()"
   ]
  },
  {
   "cell_type": "code",
   "execution_count": 21,
   "metadata": {
    "collapsed": true
   },
   "outputs": [],
   "source": [
    "from sklearn.base import BaseEstimator, TransformerMixin\n",
    "from sklearn.pipeline import Pipeline\n",
    "from sklearn.feature_extraction.text import CountVectorizer\n"
   ]
  },
  {
   "cell_type": "code",
   "execution_count": 22,
   "metadata": {},
   "outputs": [],
   "source": [
    "#text filter\n",
    "stop_words = {'computer', 'sun', 'user', 'week','flash','flashlight','light','day','deliver','ups','post'}\n",
    "class reviewtextFilter(BaseEstimator, TransformerMixin):\n",
    "    def __init__(self, pos_to_keep=('NOUN', 'PROPN', 'ADJ', 'VERB'), stop_words=None):\n",
    "        self.pos_to_keep = pos_to_keep\n",
    "        self.stop_words = stop_words\n",
    "        \n",
    "    def fit(self, X, y=None):\n",
    "        return self\n",
    "        \n",
    "    def transform(self, X):\n",
    "        preprocessed_sentences = []\n",
    "        \n",
    "        for doc in nlp.pipe(X, n_threads=8):\n",
    "            if self.stop_words is not None:\n",
    "                keep_tokens_string = ' '.join([t.lemma_ for t in doc if t.pos_ in self.pos_to_keep and t.lemma_ not in self.stop_words])\n",
    "            else:\n",
    "                keep_tokens_string = ' '.join([t.lemma_ for t in doc if t.pos_ in self.pos_to_keep])\n",
    "            preprocessed_sentences.append(keep_tokens_string)\n",
    "    \n",
    "        return preprocessed_sentences\n",
    "cv = CountVectorizer(lowercase=True, stop_words='english')"
   ]
  },
  {
   "cell_type": "code",
   "execution_count": 23,
   "metadata": {
    "collapsed": true
   },
   "outputs": [],
   "source": [
    "# I need a selector to give me the data I need\n",
    "from sklearn.base import BaseEstimator, TransformerMixin\n",
    "\n",
    "class DataFrameSelector(BaseEstimator, TransformerMixin):\n",
    "    def __init__(self, attribute_names):\n",
    "        self.attribute_names = attribute_names\n",
    "    def fit(self, X, y=None):\n",
    "        return self\n",
    "    def transform(self, X):\n",
    "        return X[self.attribute_names].values\n",
    "    \n",
    "class textFrameSelector(BaseEstimator, TransformerMixin):\n",
    "    def __init__(self, attribute_names):\n",
    "        self.attribute_names = attribute_names\n",
    "    def fit(self, X, y=None):\n",
    "        return self\n",
    "    def transform(self, X):\n",
    "        return X[self.attribute_names]"
   ]
  },
  {
   "cell_type": "code",
   "execution_count": 24,
   "metadata": {
    "collapsed": true
   },
   "outputs": [],
   "source": [
    "# build several pipelines, this is important\n",
    "num_attribs = ['pos','neg','titlen']\n",
    "text_attribs = 'review_text'\n",
    "from sklearn.preprocessing import StandardScaler\n",
    "\n",
    "num_pipeline = Pipeline([\n",
    "        ('selector', DataFrameSelector(num_attribs)),\n",
    "        ('std_scaler', StandardScaler()),\n",
    "    ])\n",
    "\n",
    "text_pipeline = Pipeline([\n",
    "        ('selector', textFrameSelector(text_attribs)),\n",
    "        ('posf',reviewtextFilter(stop_words=stop_words)),\n",
    "        ('cv', CountVectorizer(lowercase=True, stop_words='english'))\n",
    "    ])\n",
    "# now these 4 features need to union together\n",
    "from sklearn.pipeline import FeatureUnion\n",
    "\n",
    "full_pipeline = FeatureUnion(transformer_list=[\n",
    "    ('num_pipeline', num_pipeline),\n",
    "    ('text_pipeline', text_pipeline),])"
   ]
  },
  {
   "cell_type": "code",
   "execution_count": 25,
   "metadata": {},
   "outputs": [
    {
     "data": {
      "text/plain": [
       "<738x1451 sparse matrix of type '<class 'numpy.float64'>'\n",
       "\twith 9397 stored elements in Compressed Sparse Row format>"
      ]
     },
     "execution_count": 25,
     "metadata": {},
     "output_type": "execute_result"
    }
   ],
   "source": [
    "#process train set\n",
    "train_labels = train_set.rating\n",
    "review_prepared = full_pipeline.fit_transform(train_set)\n",
    "review_prepared"
   ]
  },
  {
   "cell_type": "code",
   "execution_count": 26,
   "metadata": {},
   "outputs": [
    {
     "data": {
      "text/plain": [
       "<738x1448 sparse matrix of type '<class 'numpy.int64'>'\n",
       "\twith 7183 stored elements in Compressed Sparse Row format>"
      ]
     },
     "execution_count": 26,
     "metadata": {},
     "output_type": "execute_result"
    }
   ],
   "source": [
    "text_processed = text_pipeline.fit_transform(train_set)\n",
    "text_processed"
   ]
  },
  {
   "cell_type": "code",
   "execution_count": 27,
   "metadata": {},
   "outputs": [
    {
     "data": {
      "text/plain": [
       "LogisticRegression(C=1.0, class_weight=None, dual=False, fit_intercept=True,\n",
       "          intercept_scaling=1, max_iter=100, multi_class='ovr', n_jobs=1,\n",
       "          penalty='l2', random_state=None, solver='liblinear', tol=0.0001,\n",
       "          verbose=0, warm_start=False)"
      ]
     },
     "execution_count": 27,
     "metadata": {},
     "output_type": "execute_result"
    }
   ],
   "source": [
    "#text: 738*1448 text with num_feature: 738*1451. exactly what I want!!\n",
    "# now, build and tarin some model\n",
    "from sklearn.linear_model import LogisticRegression\n",
    "lr = LogisticRegression()\n",
    "\n",
    "lr.fit(review_prepared, train_labels)"
   ]
  },
  {
   "cell_type": "code",
   "execution_count": 28,
   "metadata": {},
   "outputs": [
    {
     "data": {
      "text/plain": [
       "RandomForestRegressor(bootstrap=True, criterion='mse', max_depth=None,\n",
       "           max_features='auto', max_leaf_nodes=None,\n",
       "           min_impurity_decrease=0.0, min_impurity_split=None,\n",
       "           min_samples_leaf=1, min_samples_split=2,\n",
       "           min_weight_fraction_leaf=0.0, n_estimators=10, n_jobs=1,\n",
       "           oob_score=False, random_state=62, verbose=0, warm_start=False)"
      ]
     },
     "execution_count": 28,
     "metadata": {},
     "output_type": "execute_result"
    }
   ],
   "source": [
    "from sklearn.ensemble import RandomForestRegressor\n",
    "\n",
    "forest_reg = RandomForestRegressor(random_state=62)\n",
    "forest_reg.fit(review_prepared, train_labels)"
   ]
  },
  {
   "cell_type": "code",
   "execution_count": 29,
   "metadata": {},
   "outputs": [
    {
     "data": {
      "text/plain": [
       "LinearRegression(copy_X=True, fit_intercept=True, n_jobs=1, normalize=False)"
      ]
     },
     "execution_count": 29,
     "metadata": {},
     "output_type": "execute_result"
    }
   ],
   "source": [
    "from sklearn.linear_model import LinearRegression\n",
    "\n",
    "lin_reg = LinearRegression()\n",
    "lin_reg.fit(review_prepared, train_labels)"
   ]
  },
  {
   "cell_type": "code",
   "execution_count": 30,
   "metadata": {},
   "outputs": [
    {
     "data": {
      "text/plain": [
       "array([5, 5, 4, 1, 4, 5, 1, 5, 5, 5], dtype=int64)"
      ]
     },
     "execution_count": 30,
     "metadata": {},
     "output_type": "execute_result"
    }
   ],
   "source": [
    "# now there are 3 models, try something\n",
    "training_test = test_set.sample(10, random_state=51)\n",
    "training_test_labels = training_test.rating\n",
    "proc_training_test = full_pipeline.transform(training_test)\n",
    "lr.predict(proc_training_test)"
   ]
  },
  {
   "cell_type": "code",
   "execution_count": 31,
   "metadata": {},
   "outputs": [
    {
     "data": {
      "text/plain": [
       "205    5\n",
       "348    5\n",
       "625    4\n",
       "310    1\n",
       "734    5\n",
       "611    5\n",
       "548    1\n",
       "272    5\n",
       "312    5\n",
       "762    5\n",
       "Name: rating, dtype: int64"
      ]
     },
     "execution_count": 31,
     "metadata": {},
     "output_type": "execute_result"
    }
   ],
   "source": [
    "training_test_labels"
   ]
  },
  {
   "cell_type": "code",
   "execution_count": 33,
   "metadata": {},
   "outputs": [
    {
     "data": {
      "text/plain": [
       "0.90000000000000002"
      ]
     },
     "execution_count": 33,
     "metadata": {},
     "output_type": "execute_result"
    }
   ],
   "source": [
    "lr.score(proc_training_test, training_test_labels)"
   ]
  },
  {
   "cell_type": "code",
   "execution_count": 34,
   "metadata": {},
   "outputs": [
    {
     "name": "stdout",
     "output_type": "stream",
     "text": [
      "Scores: [ 1.14707867  1.08215185  0.95971487  1.14490646  1.07269983  1.26057173\n",
      "  1.34978436  1.17624897  1.22474487  1.21335165]\n",
      "Mean: 1.16312532697\n",
      "Standard deviation: 0.103695702337\n"
     ]
    }
   ],
   "source": [
    "#not bad ha, lets use cross validation to test them.\n",
    "from sklearn.model_selection import cross_validate\n",
    "from sklearn.model_selection import cross_val_score\n",
    "\n",
    "scores = cross_val_score(lr, review_prepared, train_labels,\n",
    "                         scoring=\"neg_mean_squared_error\", cv=10)\n",
    "lr_rmse_scores = np.sqrt(-scores)\n",
    "def display_scores(scores):\n",
    "    print(\"Scores:\", scores)\n",
    "    print(\"Mean:\", scores.mean())\n",
    "    print(\"Standard deviation:\", scores.std())\n",
    "\n",
    "display_scores(lr_rmse_scores)"
   ]
  },
  {
   "cell_type": "code",
   "execution_count": 35,
   "metadata": {},
   "outputs": [
    {
     "name": "stdout",
     "output_type": "stream",
     "text": [
      "Scores: [ 4.62852738  3.53627272  3.77981776  4.48985611  4.98950435  2.76622246\n",
      "  3.90667682  2.9086903   4.52998428  4.02183922]\n",
      "Mean: 3.95573914138\n",
      "Standard deviation: 0.697229580226\n"
     ]
    }
   ],
   "source": [
    "lin_scores = cross_val_score(lin_reg,  review_prepared, train_labels,\n",
    "                             scoring=\"neg_mean_squared_error\", cv=10)\n",
    "lin_rmse_scores = np.sqrt(-lin_scores)\n",
    "display_scores(lin_rmse_scores)"
   ]
  },
  {
   "cell_type": "code",
   "execution_count": 36,
   "metadata": {},
   "outputs": [
    {
     "name": "stdout",
     "output_type": "stream",
     "text": [
      "Scores: [ 1.16761506  1.08461117  0.93563102  1.18401516  0.92144129  1.1193091\n",
      "  1.0464014   0.99479124  1.17040212  1.29544924]\n",
      "Mean: 1.09196667963\n",
      "Standard deviation: 0.112957332609\n"
     ]
    }
   ],
   "source": [
    "forest_scores = cross_val_score(forest_reg,  review_prepared, train_labels,\n",
    "                             scoring=\"neg_mean_squared_error\", cv=10)\n",
    "forest_rmse_scores = np.sqrt(-forest_scores)\n",
    "display_scores(forest_rmse_scores)"
   ]
  },
  {
   "cell_type": "code",
   "execution_count": 37,
   "metadata": {},
   "outputs": [
    {
     "data": {
      "text/plain": [
       "GridSearchCV(cv=5, error_score='raise',\n",
       "       estimator=RandomForestRegressor(bootstrap=True, criterion='mse', max_depth=None,\n",
       "           max_features='auto', max_leaf_nodes=None,\n",
       "           min_impurity_decrease=0.0, min_impurity_split=None,\n",
       "           min_samples_leaf=1, min_samples_split=2,\n",
       "           min_weight_fraction_leaf=0.0, n_estimators=10, n_jobs=1,\n",
       "           oob_score=False, random_state=62, verbose=0, warm_start=False),\n",
       "       fit_params=None, iid=True, n_jobs=1,\n",
       "       param_grid=[{'n_estimators': [5, 20, 10, 50], 'max_features': [2, 4, 'log2', 'sqrt']}, {'bootstrap': [False], 'n_estimators': [5, 10, 20], 'max_features': [2, 4, 'log2', 'sqrt']}],\n",
       "       pre_dispatch='2*n_jobs', refit=True, return_train_score=True,\n",
       "       scoring='neg_mean_squared_error', verbose=0)"
      ]
     },
     "execution_count": 37,
     "metadata": {},
     "output_type": "execute_result"
    }
   ],
   "source": [
    "# it seems like both randomforest and logistic regreesion are good, let do some fine-tune to set them to best parameter\n",
    "from sklearn.model_selection import GridSearchCV\n",
    "\n",
    "param_grid = [\n",
    "    # try 16 (4×4) combinations of hyperparameters\n",
    "    {'n_estimators': [5, 20, 10, 50], 'max_features': [2, 4, 'log2', 'sqrt']},\n",
    "    # then try 12 (3×4) combinations with bootstrap set as False\n",
    "    {'bootstrap': [False], 'n_estimators': [5, 10, 20], 'max_features': [2, 4, 'log2', 'sqrt']},\n",
    "  ]\n",
    "\n",
    "forest_reg = RandomForestRegressor(random_state=62)\n",
    "# train across 5 folds, we have about 700 case, split them to 5 folds should good enough\n",
    "grid_search = GridSearchCV(forest_reg, param_grid, cv=5,\n",
    "                           scoring='neg_mean_squared_error', return_train_score=True)\n",
    "grid_search.fit(review_prepared, train_labels)\n"
   ]
  },
  {
   "cell_type": "code",
   "execution_count": 38,
   "metadata": {},
   "outputs": [
    {
     "data": {
      "text/plain": [
       "RandomForestRegressor(bootstrap=True, criterion='mse', max_depth=None,\n",
       "           max_features='sqrt', max_leaf_nodes=None,\n",
       "           min_impurity_decrease=0.0, min_impurity_split=None,\n",
       "           min_samples_leaf=1, min_samples_split=2,\n",
       "           min_weight_fraction_leaf=0.0, n_estimators=50, n_jobs=1,\n",
       "           oob_score=False, random_state=62, verbose=0, warm_start=False)"
      ]
     },
     "execution_count": 38,
     "metadata": {},
     "output_type": "execute_result"
    }
   ],
   "source": [
    "grid_search.best_estimator_"
   ]
  },
  {
   "cell_type": "code",
   "execution_count": 39,
   "metadata": {},
   "outputs": [
    {
     "data": {
      "text/plain": [
       "RandomForestRegressor(bootstrap=True, criterion='mse', max_depth=None,\n",
       "           max_features='sqrt', max_leaf_nodes=None,\n",
       "           min_impurity_decrease=0.0, min_impurity_split=None,\n",
       "           min_samples_leaf=1, min_samples_split=2,\n",
       "           min_weight_fraction_leaf=0.0, n_estimators=50, n_jobs=1,\n",
       "           oob_score=False, random_state=62, verbose=0, warm_start=False)"
      ]
     },
     "execution_count": 39,
     "metadata": {},
     "output_type": "execute_result"
    }
   ],
   "source": [
    "# let's build a better randomforest\n",
    "forest_reg_premium =RandomForestRegressor(bootstrap=True, criterion='mse', max_depth=None,\n",
    "           max_features='sqrt', max_leaf_nodes=None,\n",
    "           min_impurity_decrease=0.0, min_impurity_split=None,\n",
    "           min_samples_leaf=1, min_samples_split=2,\n",
    "           min_weight_fraction_leaf=0.0, n_estimators=50, n_jobs=1,\n",
    "           oob_score=False, random_state=62, verbose=0, warm_start=False)\n",
    "forest_reg_premium.fit(review_prepared, train_labels)"
   ]
  },
  {
   "cell_type": "code",
   "execution_count": 41,
   "metadata": {},
   "outputs": [
    {
     "name": "stdout",
     "output_type": "stream",
     "text": [
      "Scores: [ 1.02106899  1.052788    0.85807603  0.99447333  0.83633693  1.07629278\n",
      "  0.97017581  0.93180538  1.06030963  1.19864461]\n",
      "Mean: 0.999997147604\n",
      "Standard deviation: 0.102296892808\n"
     ]
    }
   ],
   "source": [
    "# lets see how it works\n",
    "forest_scores_p = cross_val_score(forest_reg_premium,  review_prepared, train_labels,\n",
    "                             scoring=\"neg_mean_squared_error\", cv=10)\n",
    "forest_rmse_scores_p = np.sqrt(-forest_scores_p)\n",
    "display_scores(forest_rmse_scores_p)"
   ]
  },
  {
   "cell_type": "code",
   "execution_count": 45,
   "metadata": {},
   "outputs": [
    {
     "data": {
      "text/plain": [
       "GridSearchCV(cv=5, error_score='raise',\n",
       "       estimator=LogisticRegression(C=1.0, class_weight=None, dual=False, fit_intercept=True,\n",
       "          intercept_scaling=1, max_iter=100, multi_class='ovr', n_jobs=1,\n",
       "          penalty='l2', random_state=None, solver='liblinear', tol=0.0001,\n",
       "          verbose=0, warm_start=False),\n",
       "       fit_params=None, iid=True, n_jobs=1,\n",
       "       param_grid=[{'penalty': ['l2'], 'C': [0.1, 1.0, 10, 100]}, {'penalty': ['l1'], 'C': [0.1, 1.0, 10, 100]}],\n",
       "       pre_dispatch='2*n_jobs', refit=True, return_train_score=True,\n",
       "       scoring='neg_mean_squared_error', verbose=0)"
      ]
     },
     "execution_count": 45,
     "metadata": {},
     "output_type": "execute_result"
    }
   ],
   "source": [
    "# what about logistic?\n",
    "param_grid2 = [\n",
    "    {'penalty': ['l2'], 'C': [0.1, 1.0, 10,100]},\n",
    "    {'penalty': ['l1'], 'C': [0.1, 1.0, 10,100]},\n",
    "  ]\n",
    "\n",
    "lr = LogisticRegression()\n",
    "grid_search = GridSearchCV(lr, param_grid2, cv=5,\n",
    "                           scoring='neg_mean_squared_error', return_train_score=True)\n",
    "grid_search.fit(review_prepared, train_labels)"
   ]
  },
  {
   "cell_type": "code",
   "execution_count": 53,
   "metadata": {},
   "outputs": [
    {
     "data": {
      "text/plain": [
       "LogisticRegression(C=10, class_weight=None, dual=False, fit_intercept=True,\n",
       "          intercept_scaling=1, max_iter=100, multi_class='ovr', n_jobs=1,\n",
       "          penalty='l2', random_state=None, solver='liblinear', tol=0.0001,\n",
       "          verbose=0, warm_start=False)"
      ]
     },
     "execution_count": 53,
     "metadata": {},
     "output_type": "execute_result"
    }
   ],
   "source": [
    "grid_search.best_estimator_"
   ]
  },
  {
   "cell_type": "code",
   "execution_count": 54,
   "metadata": {},
   "outputs": [
    {
     "data": {
      "text/plain": [
       "LogisticRegression(C=10, class_weight=None, dual=False, fit_intercept=True,\n",
       "          intercept_scaling=1, max_iter=100, multi_class='ovr', n_jobs=1,\n",
       "          penalty='l2', random_state=None, solver='liblinear', tol=0.0001,\n",
       "          verbose=0, warm_start=False)"
      ]
     },
     "execution_count": 54,
     "metadata": {},
     "output_type": "execute_result"
    }
   ],
   "source": [
    "# let's build a better logistic:\n",
    "lr_premium = LogisticRegression(C=10, class_weight=None, dual=False, fit_intercept=True,\n",
    "          intercept_scaling=1, max_iter=100, multi_class='ovr', n_jobs=1,\n",
    "          penalty='l2', random_state=None, solver='liblinear', tol=0.0001,\n",
    "          verbose=0, warm_start=False)\n",
    "lr_premium.fit(review_prepared, train_labels)"
   ]
  },
  {
   "cell_type": "code",
   "execution_count": 55,
   "metadata": {},
   "outputs": [
    {
     "name": "stdout",
     "output_type": "stream",
     "text": [
      "Scores: [ 1.11213403  1.01307245  1.10023921  1.29968811  1.17624897  1.31898674\n",
      "  1.29804912  1.12261925  1.15470054  1.17260394]\n",
      "Mean: 1.17683423582\n",
      "Standard deviation: 0.095032467002\n"
     ]
    }
   ],
   "source": [
    "scores_p = cross_val_score(lr_premium, review_prepared, train_labels,\n",
    "                         scoring=\"neg_mean_squared_error\", cv=10)\n",
    "lr_rmse_scores_p = np.sqrt(-scores_p)\n",
    "display_scores(lr_rmse_scores_p)"
   ]
  },
  {
   "cell_type": "code",
   "execution_count": 56,
   "metadata": {
    "collapsed": true
   },
   "outputs": [],
   "source": [
    "# based on the result,I think the randomforest model(forest_reg_premium) is the best, it has better accuracy and fair small deviation."
   ]
  },
  {
   "cell_type": "code",
   "execution_count": null,
   "metadata": {
    "collapsed": true
   },
   "outputs": [],
   "source": []
  }
 ],
 "metadata": {
  "kernelspec": {
   "display_name": "Python 3",
   "language": "python",
   "name": "python3"
  },
  "language_info": {
   "codemirror_mode": {
    "name": "ipython",
    "version": 3
   },
   "file_extension": ".py",
   "mimetype": "text/x-python",
   "name": "python",
   "nbconvert_exporter": "python",
   "pygments_lexer": "ipython3",
   "version": "3.6.3"
  }
 },
 "nbformat": 4,
 "nbformat_minor": 2
}
